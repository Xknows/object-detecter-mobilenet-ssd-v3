{
 "cells": [
  {
   "cell_type": "markdown",
   "id": "c19720f2",
   "metadata": {},
   "source": [
    "# simple object detecter using  mobilenet-ssd v.3 and coco dataset "
   ]
  },
  {
   "cell_type": "code",
   "execution_count": 1,
   "id": "af11abb3",
   "metadata": {},
   "outputs": [],
   "source": [
    "import cv2                                          # import opencv"
   ]
  },
  {
   "cell_type": "code",
   "execution_count": 2,
   "id": "7e9bce6d",
   "metadata": {},
   "outputs": [],
   "source": [
    "img = cv2.imread('cat.jpg')                         # read image"
   ]
  },
  {
   "cell_type": "code",
   "execution_count": 3,
   "id": "bc57c7e2",
   "metadata": {},
   "outputs": [],
   "source": [
    "classNames = []\n",
    "classFile = \"coco.names\"                            # dataset\n",
    "with open(classFile, \"rt\") as f:                    # copy object names from dataset to classNames list\n",
    "    classNames = f.read().rstrip(\"\\n\").split(\"\\n\")"
   ]
  },
  {
   "cell_type": "code",
   "execution_count": 4,
   "id": "f95c57fe",
   "metadata": {},
   "outputs": [],
   "source": [
    "configPath = \"ssd_mobilenet_v3_large_coco_2020_01_14.pbtxt\" # model path \n",
    "weightPath = \"frozen_inference_graph.pb\""
   ]
  },
  {
   "cell_type": "code",
   "execution_count": 5,
   "id": "6985c660",
   "metadata": {},
   "outputs": [
    {
     "data": {
      "text/plain": [
       "< cv2.dnn.Model 0000000005BA8E50>"
      ]
     },
     "execution_count": 5,
     "metadata": {},
     "output_type": "execute_result"
    }
   ],
   "source": [
    "net = cv2.dnn.DetectionModel(weightPath, configPath)       # model configuration- Actually, \n",
    "net.setInputSize(320,320)                                 # Honestly, I don't understand this cell right now\n",
    "net.setInputScale(1.8/127.5)                             # I just copied it from the documentation. --I will update this--\n",
    "net.setInputMean(127.5)\n",
    "net.setInputSwapRB(True)"
   ]
  },
  {
   "cell_type": "code",
   "execution_count": 6,
   "id": "165515ef",
   "metadata": {},
   "outputs": [
    {
     "name": "stdout",
     "output_type": "stream",
     "text": [
      "[17] [[ 95   0 387 399]]\n"
     ]
    }
   ],
   "source": [
    "classIdes, confs, bbox = net.detect(img, confThreshold=0.5)   # giving image with Threshold = 0.5\n",
    "print(classIdes, bbox)                                       # for now, just print class name of each diagnosed box "
   ]
  },
  {
   "cell_type": "code",
   "execution_count": 7,
   "id": "b5361d42",
   "metadata": {},
   "outputs": [],
   "source": [
    "for classId, confidence, box in zip(classIdes.flatten(), confs.flatten(), bbox): # advance \"for\" loop, marge one dimension arrays\n",
    "    cv2.rectangle(img, box, color=(0, 0, 255), thickness=3)                      # box configuration\n",
    "    cv2.putText(img, classNames[classId-1], (box[0]+38, box[1]+38),              # text configuration\n",
    "                cv2.FONT_HERSHEY_COMPLEX, 1, (0, 255, 0), 2)"
   ]
  },
  {
   "cell_type": "code",
   "execution_count": null,
   "id": "00dbaeca",
   "metadata": {},
   "outputs": [],
   "source": [
    "cv2.imshow(\"output\", img)                                                       # show image\n",
    "cv2.waitKey(0)                                                                  # wait until user enter any key\n",
    "cv2.destroyAllWindows()                                                         # and close image"
   ]
  },
  {
   "cell_type": "code",
   "execution_count": null,
   "id": "d395099c",
   "metadata": {},
   "outputs": [],
   "source": []
  },
  {
   "cell_type": "code",
   "execution_count": null,
   "id": "1985b312",
   "metadata": {},
   "outputs": [],
   "source": []
  },
  {
   "cell_type": "code",
   "execution_count": null,
   "id": "1c66f264",
   "metadata": {},
   "outputs": [],
   "source": []
  },
  {
   "cell_type": "code",
   "execution_count": null,
   "id": "4d699037",
   "metadata": {},
   "outputs": [],
   "source": []
  },
  {
   "cell_type": "code",
   "execution_count": null,
   "id": "d99f4b40",
   "metadata": {},
   "outputs": [],
   "source": []
  }
 ],
 "metadata": {
  "kernelspec": {
   "display_name": "Python 3 (ipykernel)",
   "language": "python",
   "name": "python3"
  },
  "language_info": {
   "codemirror_mode": {
    "name": "ipython",
    "version": 3
   },
   "file_extension": ".py",
   "mimetype": "text/x-python",
   "name": "python",
   "nbconvert_exporter": "python",
   "pygments_lexer": "ipython3",
   "version": "3.7.0"
  }
 },
 "nbformat": 4,
 "nbformat_minor": 5
}
